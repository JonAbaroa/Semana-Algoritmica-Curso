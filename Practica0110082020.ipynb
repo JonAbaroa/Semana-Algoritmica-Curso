{
  "nbformat": 4,
  "nbformat_minor": 0,
  "metadata": {
    "colab": {
      "name": "Practica0110082020.ipynb",
      "provenance": [],
      "authorship_tag": "ABX9TyNJWUi/cEg5AAslaVX1FH5h",
      "include_colab_link": true
    },
    "kernelspec": {
      "name": "python3",
      "display_name": "Python 3"
    }
  },
  "cells": [
    {
      "cell_type": "markdown",
      "metadata": {
        "id": "view-in-github",
        "colab_type": "text"
      },
      "source": [
        "<a href=\"https://colab.research.google.com/github/JonAbaroa/Semana-Algoritmica-Curso/blob/master/Practica0110082020.ipynb\" target=\"_parent\"><img src=\"https://colab.research.google.com/assets/colab-badge.svg\" alt=\"Open In Colab\"/></a>"
      ]
    },
    {
      "cell_type": "code",
      "metadata": {
        "id": "EziLH9hMLPkX",
        "colab_type": "code",
        "colab": {}
      },
      "source": [
        ""
      ],
      "execution_count": null,
      "outputs": []
    },
    {
      "cell_type": "markdown",
      "metadata": {
        "id": "TEnIprG5NR5O",
        "colab_type": "text"
      },
      "source": [
        "Aplicar conceptos - Variables"
      ]
    },
    {
      "cell_type": "code",
      "metadata": {
        "id": "dQVEedTcOZif",
        "colab_type": "code",
        "colab": {
          "base_uri": "https://localhost:8080/",
          "height": 34
        },
        "outputId": "47cfdea0-e033-4ac4-c688-c1d7c9aafcd6"
      },
      "source": [
        "val1 = 1\n",
        "val2 = 2\n",
        "resultado = val1 + val2\n",
        "print(resultado)"
      ],
      "execution_count": 4,
      "outputs": [
        {
          "output_type": "stream",
          "text": [
            "3\n"
          ],
          "name": "stdout"
        }
      ]
    },
    {
      "cell_type": "code",
      "metadata": {
        "id": "VsAmU4n0TCWC",
        "colab_type": "code",
        "colab": {
          "base_uri": "https://localhost:8080/",
          "height": 34
        },
        "outputId": "aab793e7-9eee-4484-89c3-abc011ebb0d2"
      },
      "source": [
        "num = 4\n",
        "if num % 2 == 0:\n",
        "  print(\"es par\")"
      ],
      "execution_count": 5,
      "outputs": [
        {
          "output_type": "stream",
          "text": [
            "es par\n"
          ],
          "name": "stdout"
        }
      ]
    },
    {
      "cell_type": "code",
      "metadata": {
        "id": "iQXX0L8qTnEq",
        "colab_type": "code",
        "colab": {
          "base_uri": "https://localhost:8080/",
          "height": 51
        },
        "outputId": "bfbabec4-f252-4df1-e1b9-25e46f99c87a"
      },
      "source": [
        "num = int(input(\"ingrese un valor: \"))\n",
        "if num % 2 == 0:\n",
        "  print(\"es par\")\n",
        "else:\n",
        "    print(num, \"es impar\")"
      ],
      "execution_count": 10,
      "outputs": [
        {
          "output_type": "stream",
          "text": [
            "ingrese un valor: 3\n",
            "3 es impar\n"
          ],
          "name": "stdout"
        }
      ]
    },
    {
      "cell_type": "code",
      "metadata": {
        "id": "cn25dJA-VYzx",
        "colab_type": "code",
        "colab": {
          "base_uri": "https://localhost:8080/",
          "height": 51
        },
        "outputId": "a6c9a213-13ff-4e78-88c0-0b4eeae512a4"
      },
      "source": [
        "num = int(input(\"ingrese un valor: \"))\n",
        "if num > 10:\n",
        "  print(\"es mayor a 10\")\n",
        "  print(\"hola\")\n",
        "else:\n",
        "  print(\"es menor o gual a 10\")"
      ],
      "execution_count": 12,
      "outputs": [
        {
          "output_type": "stream",
          "text": [
            "ingrese un valor: 10\n",
            "es menor o gual a 10\n"
          ],
          "name": "stdout"
        }
      ]
    }
  ]
}